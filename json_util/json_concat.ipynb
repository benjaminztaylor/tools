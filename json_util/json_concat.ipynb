{
 "cells": [
  {
   "cell_type": "code",
   "execution_count": 1,
   "metadata": {},
   "outputs": [],
   "source": [
    "import json\n",
    "import glob\n",
    "import pandas as pd"
   ]
  },
  {
   "cell_type": "code",
   "execution_count": 2,
   "metadata": {},
   "outputs": [],
   "source": [
    "# Load all json files in directory\n",
    "input_files = glob.glob('input/*.json')"
   ]
  },
  {
   "cell_type": "code",
   "execution_count": 3,
   "metadata": {},
   "outputs": [],
   "source": [
    "# Create an empty Pandas DataFrame\n",
    "df = pd.DataFrame(columns=list(json.load(open(input_files[0])).keys()))"
   ]
  },
  {
   "cell_type": "code",
   "execution_count": 4,
   "metadata": {},
   "outputs": [],
   "source": [
    "for idx, f in enumerate(input_files):\n",
    "    with open(f) as js_f:\n",
    "        # load json data\n",
    "        js_d = json.load(js_f)\n",
    "        \n",
    "        img_path   = js_d['img_path']\n",
    "        img_name   = js_d['img_name']\n",
    "        shape      = js_d['shape']\n",
    "        block_size = js_d['block_size']\n",
    "        offset     = js_d['offset']\n",
    "        date       = js_d['date']\n",
    "        \n",
    "        # append json data to df\n",
    "        df.loc[idx] = [img_path, img_name, shape, block_size, offset, date]"
   ]
  },
  {
   "cell_type": "code",
   "execution_count": 5,
   "metadata": {},
   "outputs": [
    {
     "data": {
      "text/html": [
       "<div>\n",
       "<style scoped>\n",
       "    .dataframe tbody tr th:only-of-type {\n",
       "        vertical-align: middle;\n",
       "    }\n",
       "\n",
       "    .dataframe tbody tr th {\n",
       "        vertical-align: top;\n",
       "    }\n",
       "\n",
       "    .dataframe thead th {\n",
       "        text-align: right;\n",
       "    }\n",
       "</style>\n",
       "<table border=\"1\" class=\"dataframe\">\n",
       "  <thead>\n",
       "    <tr style=\"text-align: right;\">\n",
       "      <th></th>\n",
       "      <th>img_path</th>\n",
       "      <th>img_name</th>\n",
       "      <th>shape</th>\n",
       "      <th>block_size</th>\n",
       "      <th>offset</th>\n",
       "      <th>date</th>\n",
       "    </tr>\n",
       "  </thead>\n",
       "  <tbody>\n",
       "    <tr>\n",
       "      <th>0</th>\n",
       "      <td>/Users/bentaylor/Desktop/input/16-39-00.000-re...</td>\n",
       "      <td>16-39-00.000-resize-00165.png</td>\n",
       "      <td>[695, 1000, 3]</td>\n",
       "      <td>1055</td>\n",
       "      <td>20</td>\n",
       "      <td>01-13-2022-12-33</td>\n",
       "    </tr>\n",
       "    <tr>\n",
       "      <th>1</th>\n",
       "      <td>/Users/bentaylor/Desktop/input/22-04-36.000-re...</td>\n",
       "      <td>22-04-36.000-resize-00100.png</td>\n",
       "      <td>[695, 1000, 3]</td>\n",
       "      <td>579</td>\n",
       "      <td>16</td>\n",
       "      <td>01-13-2022-12-37</td>\n",
       "    </tr>\n",
       "    <tr>\n",
       "      <th>2</th>\n",
       "      <td>/Users/bentaylor/Desktop/input/13-09-09.000-re...</td>\n",
       "      <td>13-09-09.000-resize-00131.png</td>\n",
       "      <td>[695, 1000, 3]</td>\n",
       "      <td>1065</td>\n",
       "      <td>26</td>\n",
       "      <td>01-13-2022-12-30</td>\n",
       "    </tr>\n",
       "    <tr>\n",
       "      <th>3</th>\n",
       "      <td>/Users/bentaylor/Desktop/input/19-34-31.000-re...</td>\n",
       "      <td>19-34-31.000-resize-00190.png</td>\n",
       "      <td>[695, 1000, 3]</td>\n",
       "      <td>587</td>\n",
       "      <td>29</td>\n",
       "      <td>01-13-2022-12-36</td>\n",
       "    </tr>\n",
       "    <tr>\n",
       "      <th>4</th>\n",
       "      <td>/Users/bentaylor/Desktop/input/15-01-37.000-re...</td>\n",
       "      <td>15-01-37.000-resize-00014.png</td>\n",
       "      <td>[695, 1000, 3]</td>\n",
       "      <td>1419</td>\n",
       "      <td>15</td>\n",
       "      <td>01-13-2022-12-31</td>\n",
       "    </tr>\n",
       "    <tr>\n",
       "      <th>5</th>\n",
       "      <td>/Users/bentaylor/Desktop/input/17-57-59.000-re...</td>\n",
       "      <td>17-57-59.000-resize-00050.png</td>\n",
       "      <td>[695, 1000, 3]</td>\n",
       "      <td>687</td>\n",
       "      <td>23</td>\n",
       "      <td>01-13-2022-12-34</td>\n",
       "    </tr>\n",
       "  </tbody>\n",
       "</table>\n",
       "</div>"
      ],
      "text/plain": [
       "                                            img_path  \\\n",
       "0  /Users/bentaylor/Desktop/input/16-39-00.000-re...   \n",
       "1  /Users/bentaylor/Desktop/input/22-04-36.000-re...   \n",
       "2  /Users/bentaylor/Desktop/input/13-09-09.000-re...   \n",
       "3  /Users/bentaylor/Desktop/input/19-34-31.000-re...   \n",
       "4  /Users/bentaylor/Desktop/input/15-01-37.000-re...   \n",
       "5  /Users/bentaylor/Desktop/input/17-57-59.000-re...   \n",
       "\n",
       "                        img_name           shape block_size offset  \\\n",
       "0  16-39-00.000-resize-00165.png  [695, 1000, 3]       1055     20   \n",
       "1  22-04-36.000-resize-00100.png  [695, 1000, 3]        579     16   \n",
       "2  13-09-09.000-resize-00131.png  [695, 1000, 3]       1065     26   \n",
       "3  19-34-31.000-resize-00190.png  [695, 1000, 3]        587     29   \n",
       "4  15-01-37.000-resize-00014.png  [695, 1000, 3]       1419     15   \n",
       "5  17-57-59.000-resize-00050.png  [695, 1000, 3]        687     23   \n",
       "\n",
       "               date  \n",
       "0  01-13-2022-12-33  \n",
       "1  01-13-2022-12-37  \n",
       "2  01-13-2022-12-30  \n",
       "3  01-13-2022-12-36  \n",
       "4  01-13-2022-12-31  \n",
       "5  01-13-2022-12-34  "
      ]
     },
     "execution_count": 5,
     "metadata": {},
     "output_type": "execute_result"
    }
   ],
   "source": [
    "df"
   ]
  },
  {
   "cell_type": "code",
   "execution_count": 6,
   "metadata": {},
   "outputs": [],
   "source": [
    "# save concat json as csv\n",
    "\n",
    "df.to_csv('concat-json.csv')"
   ]
  }
 ],
 "metadata": {
  "interpreter": {
   "hash": "310ee57c3eb7885ea90a3764fdb11c7278b9d730f8dd9a4b1a16fb21e972b370"
  },
  "kernelspec": {
   "display_name": "Python 3.7.7 64-bit ('track': conda)",
   "language": "python",
   "name": "python3"
  },
  "language_info": {
   "codemirror_mode": {
    "name": "ipython",
    "version": 3
   },
   "file_extension": ".py",
   "mimetype": "text/x-python",
   "name": "python",
   "nbconvert_exporter": "python",
   "pygments_lexer": "ipython3",
   "version": "3.7.7"
  },
  "orig_nbformat": 4
 },
 "nbformat": 4,
 "nbformat_minor": 2
}
